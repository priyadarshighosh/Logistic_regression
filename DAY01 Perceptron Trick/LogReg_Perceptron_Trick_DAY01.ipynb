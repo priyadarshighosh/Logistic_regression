{
  "nbformat": 4,
  "nbformat_minor": 0,
  "metadata": {
    "colab": {
      "private_outputs": true,
      "provenance": []
    },
    "kernelspec": {
      "name": "python3",
      "display_name": "Python 3"
    },
    "language_info": {
      "name": "python"
    }
  },
  "cells": [
    {
      "cell_type": "markdown",
      "source": [
        "# Logistic Regression - Perceptron Trick\n",
        "---\n"
      ],
      "metadata": {
        "id": "u93QB4H8gs0F"
      }
    },
    {
      "cell_type": "markdown",
      "source": [
        "IMPORTING DATA SCIENCE LIBRARIES"
      ],
      "metadata": {
        "id": "I2xjrloHcxJQ"
      }
    },
    {
      "cell_type": "code",
      "execution_count": null,
      "metadata": {
        "id": "JF9RMWnFZYq3"
      },
      "outputs": [],
      "source": [
        "import numpy as np\n",
        "import pandas as pd\n",
        "import matplotlib.pyplot as plt\n",
        "import seaborn as sns\n"
      ]
    },
    {
      "cell_type": "markdown",
      "source": [
        "IMPORT MACHINE LEARNING LIBRARIES AND CLASSES"
      ],
      "metadata": {
        "id": "-FDeOVL3M7rU"
      }
    },
    {
      "cell_type": "code",
      "source": [
        "from sklearn.model_selection import train_test_split               #for splitting the data into test and training data\n",
        "from sklearn.compose import ColumnTransformer                       #for transforming the columns\n",
        "from sklearn.impute import SimpleImputer                             #for imputing the missing values\n",
        "from sklearn.preprocessing import OneHotEncoder                      #one hot encoding\n",
        "from sklearn.preprocessing import MinMaxScaler                        #standard scaling\n",
        "\n",
        "from sklearn.datasets import load_diabetes\n",
        "\n",
        "from sklearn.datasets import make_regression\n",
        "\n",
        "import plotly.express as px\n",
        "import plotly.graph_objects as go\n",
        "from sklearn.datasets import make_classification\n",
        "\n",
        "\n",
        "from sklearn.model_selection import train_test_split\n",
        "from sklearn.metrics import accuracy_score                 # for accuracy score\n",
        "from sklearn.model_selection import cross_val_score        # for cross validation score\n",
        "\n",
        "from sklearn.linear_model import LinearRegression           # Import the LinearRegression class\n",
        "from sklearn.metrics import mean_squared_error, r2_score    # to find out the error functions\n",
        "from sklearn.preprocessing import PolynomialFeatures , StandardScaler   # for the polunomial features\n",
        "\n",
        "from sklearn.pipeline import Pipeline\n",
        "from sklearn.linear_model import Ridge   # ridge Regression"
      ],
      "metadata": {
        "id": "Y208GDIXgEai"
      },
      "execution_count": null,
      "outputs": []
    },
    {
      "cell_type": "markdown",
      "source": [
        "# Loading and Information about the Dataset"
      ],
      "metadata": {
        "id": "XTPRT3iy9EuI"
      }
    },
    {
      "cell_type": "code",
      "source": [
        "from sklearn.datasets import load_diabetes\n",
        "\n",
        "X , y  = make_classification ( n_samples = 100 , n_features = 2 ,n_informative =1 ,n_redundant=0 ,  n_classes = 2 , n_clusters_per_class = 1 , random_state = 41 ,hypercube = False , class_sep = 10  )"
      ],
      "metadata": {
        "id": "PAXRZRNaJVKO"
      },
      "execution_count": null,
      "outputs": []
    },
    {
      "cell_type": "code",
      "source": [
        "plt.figure(figsize=(10,6))\n",
        "plt.scatter(X[:,0] , X[:,1] , c=y, cmap = 'winter' , s=100)\n",
        "plt.show()"
      ],
      "metadata": {
        "id": "J4KgP90hQUwe"
      },
      "execution_count": null,
      "outputs": []
    },
    {
      "cell_type": "markdown",
      "source": [
        "# Making our Own Logistic Regression Class using Perceptron Trick"
      ],
      "metadata": {
        "id": "y-V_65m4RImF"
      }
    },
    {
      "cell_type": "code",
      "source": [
        "def perceptron(X, y ):\n",
        "\n",
        "  X = np.insert(X , 0 ,1 , axis = 1)    # we inserting 1 in the place of W0\n",
        "  weights = np.ones(X.shape[1])    # initialization with the weights being 1\n",
        "  lr = 0.1\n",
        "\n",
        "  for i in range(1000):\n",
        "\n",
        "    j = np.random.randint(0,100)                     # selecting random  students from the datasets\n",
        "    y_hat = step(np.dot(X[j] , weights))            # prediction of our model from the datset\n",
        "\n",
        "\n",
        "\n",
        "    weights = weights + lr * (y[j] - y_hat) * X[j]     # Changing the weights according to the difference between the real value (yi) and  the predicted value (y_hat)\n",
        "\n",
        "  return weights[0]  , weights[1:]   # returning the values of bias and the weights of different outputs"
      ],
      "metadata": {
        "id": "z4ukLmXoRPrt"
      },
      "execution_count": null,
      "outputs": []
    },
    {
      "cell_type": "code",
      "source": [
        "def step(x):         # after prediction it is sent in this function to get a binary value\n",
        "  if x > 0:\n",
        "    return 1\n",
        "  else:\n",
        "    return 0"
      ],
      "metadata": {
        "id": "IxUD7h8vSDy1"
      },
      "execution_count": null,
      "outputs": []
    },
    {
      "cell_type": "code",
      "source": [
        "intercept_ , coef_  = perceptron(X , y )"
      ],
      "metadata": {
        "id": "w4x_49qTSINJ"
      },
      "execution_count": null,
      "outputs": []
    },
    {
      "cell_type": "code",
      "source": [
        "print(coef_)\n",
        "print(intercept_)"
      ],
      "metadata": {
        "id": "yTb9rW3aSO2W"
      },
      "execution_count": null,
      "outputs": []
    },
    {
      "cell_type": "markdown",
      "source": [
        "# Plotting the Graph"
      ],
      "metadata": {
        "id": "WInysl3GUAir"
      }
    },
    {
      "cell_type": "code",
      "source": [
        "m = -( coef_[0]/coef_[1] )\n",
        "c = - (intercept_/coef_[1] )"
      ],
      "metadata": {
        "id": "1LSk3P95UC2E"
      },
      "execution_count": null,
      "outputs": []
    },
    {
      "cell_type": "code",
      "source": [
        "x_input = np.linspace(-3 , 3, 100 )\n",
        "y_output = m * x_input + c"
      ],
      "metadata": {
        "id": "zBg76IINULJ0"
      },
      "execution_count": null,
      "outputs": []
    },
    {
      "cell_type": "code",
      "source": [
        "plt.figure(figsize=(10,6))\n",
        "plt.plot(x_input , y_output , color = 'red' , linewidth = 3)\n",
        "plt.scatter(X[:,0] , X[:,1] , c=y, cmap = 'winter' , s=100)\n",
        "\n",
        "plt.ylim(-3,2)\n",
        "plt"
      ],
      "metadata": {
        "id": "v-2J1zsmUYa8"
      },
      "execution_count": null,
      "outputs": []
    }
  ]
}